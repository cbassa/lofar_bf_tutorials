{
 "cells": [
  {
   "cell_type": "markdown",
   "metadata": {},
   "source": [
    "# Tutorial: HDF5 headers\n",
    "This tutorial will show you how to estimate the shape and sizes of beams from the LOFAR telescope.\n",
    "\n",
    "First, let's load the python libraries that we will use."
   ]
  },
  {
   "cell_type": "code",
   "execution_count": null,
   "metadata": {},
   "outputs": [],
   "source": [
    "import numpy as np\n",
    "import scipy\n",
    "import matplotlib.pyplot as plt\n",
    "import h5py\n",
    "import glob\n",
    "%pylab inline"
   ]
  },
  {
   "cell_type": "markdown",
   "metadata": {},
   "source": [
    "HDF5 files store both data as well as the associated metadata in groups. The image below gives a overview of the HDF5 file structure.\n",
    "![title](img/hdf5_structure4.jpg)\n",
    "\n",
    "Beamformed LOFAR data uses this structure, where the formatting of the HDF5 file name in sub-array pointing, beam, and Stokes parameter, is represented in the file."
   ]
  },
  {
   "cell_type": "markdown",
   "metadata": {},
   "source": [
    "The following commands show the group structure of a LOFAR HDF5 file."
   ]
  },
  {
   "cell_type": "code",
   "execution_count": null,
   "metadata": {},
   "outputs": [],
   "source": [
    "h5 = h5py.File(\"L631533/L631533_SAP000_B000_S0_P000_bf.h5\", \"r\")"
   ]
  },
  {
   "cell_type": "code",
   "execution_count": null,
   "metadata": {},
   "outputs": [],
   "source": [
    "def print_name(name):\n",
    "    print(name)"
   ]
  },
  {
   "cell_type": "code",
   "execution_count": null,
   "metadata": {},
   "outputs": [],
   "source": [
    "h5.visit(print_name)"
   ]
  },
  {
   "cell_type": "markdown",
   "metadata": {},
   "source": [
    "You will recognize the `SUB_ARRAY_POINTING_000/BEAM_000/STOKES_0` grouping. Each of these groups and subgroups has a list of *attributes*, which hold metadata. The following command shows the attributes of the `root` (\"/\") group."
   ]
  },
  {
   "cell_type": "code",
   "execution_count": null,
   "metadata": {},
   "outputs": [],
   "source": [
    "group = h5[\"/\"]\n",
    "keys = sorted([\"%s\"%item for item in sorted(list(group.attrs))])\n",
    "for key in keys:\n",
    "    print(key + \" = \" + str(group.attrs[key]))"
   ]
  },
  {
   "cell_type": "markdown",
   "metadata": {},
   "source": [
    "## Exercise 1\n",
    "Have a look at the attributes of the other subgroups in the file. In particular try to find the attributes which describe;\n",
    "1. The number of sub-array pointings in this observation,\n",
    "2. The number of tied-array beams within a sub-array,\n",
    "3. The total bandwidth,\n",
    "4. The integration time,\n",
    "5. Which Stokes parameter is contained in this file.\n",
    "\n",
    "Use the `.attrs[\"<keyword>\"]` function to obtain the values of these parameters."
   ]
  },
  {
   "cell_type": "markdown",
   "metadata": {},
   "source": [
    "The sub-array pointing group provides the pointing right ascension and declination as `POINT_RA` and `POINT_DEC`, as well as keywords describing their units. Let's first the pointing right ascension and declination of all the sub-array pointings in this observation.\n",
    "\n",
    "We can use `glob` to create a list with HDF5 headers of the first beam (`B000`) of each sub-array pointing."
   ]
  },
  {
   "cell_type": "code",
   "execution_count": null,
   "metadata": {},
   "outputs": [],
   "source": [
    "sapfnames = sorted(glob.glob(\"L631533/L631533_SAP???_B000_S0_P000_bf.h5\"))"
   ]
  },
  {
   "cell_type": "markdown",
   "metadata": {},
   "source": [
    "The following piece of code loops over these files to obtain the sub-array pointing identifiers, and then obtains the pointing right ascension and declination of each."
   ]
  },
  {
   "cell_type": "code",
   "execution_count": null,
   "metadata": {},
   "outputs": [],
   "source": [
    "sap_ra = []\n",
    "sap_dec = []\n",
    "for sapfname in sapfnames:\n",
    "    h5 = h5py.File(sapfname, \"r\")\n",
    "    sap_ids = [key for key in h5.keys() if \"SUB_ARRAY_POINTING\" in key]\n",
    "    for sap_id in sap_ids:\n",
    "        sap_ra.append(h5[sap_id].attrs['POINT_RA'])\n",
    "        sap_dec.append(h5[sap_id].attrs['POINT_DEC'])"
   ]
  },
  {
   "cell_type": "markdown",
   "metadata": {},
   "source": [
    "We can now plot these pointings."
   ]
  },
  {
   "cell_type": "code",
   "execution_count": null,
   "metadata": {},
   "outputs": [],
   "source": [
    "plt.figure(figsize=(10,7))\n",
    "plt.plot(sap_ra, sap_dec, 'o')\n",
    "plt.xlabel(\"Right ascension (deg)\")\n",
    "plt.ylabel(\"Declination (deg)\")\n",
    "plt.title(\"L631533 sub-array pointings\")"
   ]
  },
  {
   "cell_type": "markdown",
   "metadata": {},
   "source": [
    "## Exercise 2\n",
    "Use the code from the previous cells as an example to obtain the pointing right ascension and declination of each beam in each of the three sub-array pointings. Make a plot of all the beam pointings and sub-array pointings."
   ]
  },
  {
   "cell_type": "markdown",
   "metadata": {},
   "source": [
    "## Exercise 3\n",
    "You will have noticed the `COORDINATES` sub-group of the beam group. Investigate this group and the groups contained within them.\n",
    "1. What are the dimensions and units of the two coordinate axes?\n",
    "2. Compare the setup of the two coordinate axis. How does their setup differ?\n",
    "3. Extract the frequencies of the channels and show that these match the channel width defined in the beam sub-group."
   ]
  },
  {
   "cell_type": "code",
   "execution_count": null,
   "metadata": {},
   "outputs": [],
   "source": []
  }
 ],
 "metadata": {
  "kernelspec": {
   "display_name": "Python 3",
   "language": "python",
   "name": "python3"
  },
  "language_info": {
   "codemirror_mode": {
    "name": "ipython",
    "version": 3
   },
   "file_extension": ".py",
   "mimetype": "text/x-python",
   "name": "python",
   "nbconvert_exporter": "python",
   "pygments_lexer": "ipython3",
   "version": "3.6.4"
  }
 },
 "nbformat": 4,
 "nbformat_minor": 2
}
