{
 "cells": [
  {
   "cell_type": "markdown",
   "metadata": {},
   "source": [
    "# Tutorial 2: HDF5 headers"
   ]
  },
  {
   "cell_type": "markdown",
   "metadata": {},
   "source": [
    "This tutorial will show you how to estimate the shape and sizes of beams from the LOFAR telescope.\n",
    "\n",
    "First, let's load the python libraries that we will use."
   ]
  },
  {
   "cell_type": "code",
   "execution_count": 1,
   "metadata": {},
   "outputs": [
    {
     "name": "stdout",
     "output_type": "stream",
     "text": [
      "Populating the interactive namespace from numpy and matplotlib\n"
     ]
    }
   ],
   "source": [
    "import numpy as np\n",
    "import scipy\n",
    "import matplotlib.pyplot as plt\n",
    "import h5py\n",
    "%pylab inline"
   ]
  },
  {
   "cell_type": "code",
   "execution_count": 2,
   "metadata": {},
   "outputs": [],
   "source": [
    "h5 = h5py.File(\"data/L525806_SAP000_B000_S0_P000_bf.h5\")"
   ]
  },
  {
   "cell_type": "code",
   "execution_count": 7,
   "metadata": {},
   "outputs": [],
   "source": [
    "def print_name(name):\n",
    "    print(name)"
   ]
  },
  {
   "cell_type": "code",
   "execution_count": 8,
   "metadata": {},
   "outputs": [
    {
     "name": "stdout",
     "output_type": "stream",
     "text": [
      "SYS_LOG\n",
      "SUB_ARRAY_POINTING_000\n",
      "SUB_ARRAY_POINTING_000/PROCESS_HISTORY\n",
      "SUB_ARRAY_POINTING_000/BEAM_000\n",
      "SUB_ARRAY_POINTING_000/BEAM_000/PROCESS_HISTORY\n",
      "SUB_ARRAY_POINTING_000/BEAM_000/COORDINATES\n",
      "SUB_ARRAY_POINTING_000/BEAM_000/COORDINATES/COORDINATE_0\n",
      "SUB_ARRAY_POINTING_000/BEAM_000/COORDINATES/COORDINATE_1\n",
      "SUB_ARRAY_POINTING_000/BEAM_000/STOKES_0\n",
      "SUB_ARRAY_POINTING_000/BEAM_000/STOKES_0_i2f\n"
     ]
    }
   ],
   "source": [
    "h5.visit(print_name)"
   ]
  },
  {
   "cell_type": "code",
   "execution_count": 32,
   "metadata": {},
   "outputs": [],
   "source": [
    "root = h5['/']"
   ]
  },
  {
   "cell_type": "code",
   "execution_count": 53,
   "metadata": {},
   "outputs": [
    {
     "name": "stdout",
     "output_type": "stream",
     "text": [
      "DOC_VERSION = b'2.5.0'\n",
      "OBSERVATION_NOF_SUB_ARRAY_POINTINGS = 1\n",
      "PROJECT_CO_I = b'Bassa, dr. Cees'\n",
      "FILETYPE = b'bf'\n",
      "NOTES = b''\n",
      "DOC_NAME = b'ICD 3: Beam-Formed Data'\n",
      "FILENAME = b'L525806_SAP000_B000_S0_P000_bf.h5'\n",
      "OBSERVATION_NOF_STATIONS = 42\n",
      "OBSERVATION_FREQUENCY_MAX = 148.92578125\n",
      "OBSERVATION_END_MJD = 57578.573601628086\n",
      "FILTER_SELECTION = b'HBA_110_190'\n",
      "OBSERVATION_STATIONS_LIST = [b'CS001HBA0' b'CS001HBA1' b'CS002HBA0' b'CS002HBA1' b'CS003HBA0'\n",
      " b'CS003HBA1' b'CS004HBA0' b'CS004HBA1' b'CS005HBA0' b'CS005HBA1'\n",
      " b'CS006HBA0' b'CS006HBA1' b'CS007HBA0' b'CS007HBA1' b'CS011HBA0'\n",
      " b'CS011HBA1' b'CS017HBA0' b'CS017HBA1' b'CS021HBA0' b'CS021HBA1'\n",
      " b'CS024HBA0' b'CS024HBA1' b'CS026HBA0' b'CS026HBA1' b'CS028HBA0'\n",
      " b'CS028HBA1' b'CS030HBA0' b'CS030HBA1' b'CS031HBA0' b'CS031HBA1'\n",
      " b'CS032HBA0' b'CS032HBA1' b'CS101HBA0' b'CS101HBA1' b'CS201HBA0'\n",
      " b'CS201HBA1' b'CS301HBA0' b'CS301HBA1' b'CS401HBA0' b'CS401HBA1'\n",
      " b'CS501HBA0' b'CS501HBA1']\n",
      "OBSERVATION_START_UTC = b'2016-07-09T13:43:00.000000000Z'\n",
      "FILEDATE = b'2016-07-09T13:42:01.1'\n",
      "TELESCOPE = b'LOFAR'\n",
      "ANTENNA_SET = b'HBA_DUAL'\n",
      "OBSERVATION_END_UTC = b'2016-07-09T13:45:59.180666924Z'\n",
      "PROJECT_PI = b'Bassa, dr. Cees'\n",
      "BF_VERSION = b'Cobalt/OutputProc 2.17 r34857 using DAL 2.5.0 and HDF5 1.8.4'\n",
      "TARGETS = [b'B0525+21']\n",
      "OBSERVATION_ID = b'525806'\n",
      "PROJECT_CONTACT = b'Hessels, Dr. Jason'\n",
      "TOTAL_INTEGRATION_TIME = 179.18066688000002\n",
      "SYSTEM_VERSION = b'2.17'\n",
      "OBSERVATION_NOF_BITS_PER_SAMPLE = 8\n",
      "GROUPTYPE = b'Root'\n",
      "BANDWIDTH_UNIT = b'MHz'\n",
      "CLOCK_FREQUENCY = 200.0\n",
      "OBSERVATION_FREQUENCY_CENTER = 129.39453125\n",
      "PROJECT_ID = b'LC6_020'\n",
      "OBSERVATION_FREQUENCY_MIN = 109.86328125\n",
      "OBSERVATION_FREQUENCY_UNIT = b'MHz'\n",
      "TOTAL_INTEGRATION_TIME_UNIT = b's'\n",
      "BF_FORMAT = b'TAB'\n",
      "CLOCK_FREQUENCY_UNIT = b'MHz'\n",
      "NOF_SUB_ARRAY_POINTINGS = 1\n",
      "PROJECT_TITLE = b'Characterizing the broadband spectrum of the repeating Fast Radio Burst 121102 using simultaneous A'\n",
      "CREATE_OFFLINE_ONLINE = b'Online'\n",
      "OBSERVATION_START_MJD = 57578.57152777778\n",
      "BANDWIDTH = 39.0625\n"
     ]
    }
   ],
   "source": [
    "keys = [\"%s\"%item for item in list(root.attrs)]\n",
    "for key in keys:\n",
    "    print(key + \" = \" + str(root.attrs[key]))"
   ]
  },
  {
   "cell_type": "code",
   "execution_count": 41,
   "metadata": {},
   "outputs": [
    {
     "data": {
      "text/plain": [
       "b'2.5.0'"
      ]
     },
     "execution_count": 41,
     "metadata": {},
     "output_type": "execute_result"
    }
   ],
   "source": [
    "root.attrs['DOC_VERSION']"
   ]
  },
  {
   "cell_type": "code",
   "execution_count": null,
   "metadata": {},
   "outputs": [],
   "source": []
  }
 ],
 "metadata": {
  "kernelspec": {
   "display_name": "Python 3",
   "language": "python",
   "name": "python3"
  },
  "language_info": {
   "codemirror_mode": {
    "name": "ipython",
    "version": 3
   },
   "file_extension": ".py",
   "mimetype": "text/x-python",
   "name": "python",
   "nbconvert_exporter": "python",
   "pygments_lexer": "ipython3",
   "version": "3.6.5"
  }
 },
 "nbformat": 4,
 "nbformat_minor": 2
}
