{
 "cells": [
  {
   "cell_type": "markdown",
   "metadata": {},
   "source": [
    "# Tutorial 2: HDF5 headers"
   ]
  },
  {
   "cell_type": "markdown",
   "metadata": {},
   "source": [
    "This tutorial will show you how to estimate the shape and sizes of beams from the LOFAR telescope.\n",
    "\n",
    "First, let's load the python libraries that we will use."
   ]
  },
  {
   "cell_type": "code",
   "execution_count": 17,
   "metadata": {},
   "outputs": [
    {
     "name": "stdout",
     "output_type": "stream",
     "text": [
      "Populating the interactive namespace from numpy and matplotlib\n"
     ]
    }
   ],
   "source": [
    "import numpy as np\n",
    "import scipy\n",
    "import matplotlib.pyplot as plt\n",
    "import h5py\n",
    "import glob\n",
    "%pylab inline"
   ]
  },
  {
   "cell_type": "markdown",
   "metadata": {},
   "source": [
    "HDF5 files store both data as well as the associated metadata in groups. The image below gives a overview of the HDF5 file structure.\n",
    "![title](img/hdf5_structure4.jpg)\n",
    "\n",
    "Beamformed LOFAR data uses this structure, where the formatting of the HDF5 file name in sub-array pointing, beam, and Stokes parameter, is represented in the file."
   ]
  },
  {
   "cell_type": "markdown",
   "metadata": {},
   "source": [
    "The following commands show the group structure of a LOFAR HDF5 file."
   ]
  },
  {
   "cell_type": "code",
   "execution_count": 2,
   "metadata": {},
   "outputs": [],
   "source": [
    "h5 = h5py.File(\"data/L631533_SAP000_B000_S0_P000_bf.h5\")"
   ]
  },
  {
   "cell_type": "code",
   "execution_count": 3,
   "metadata": {},
   "outputs": [],
   "source": [
    "def print_name(name):\n",
    "    print(name)"
   ]
  },
  {
   "cell_type": "code",
   "execution_count": 4,
   "metadata": {},
   "outputs": [
    {
     "name": "stdout",
     "output_type": "stream",
     "text": [
      "SYS_LOG\n",
      "SUB_ARRAY_POINTING_000\n",
      "SUB_ARRAY_POINTING_000/PROCESS_HISTORY\n",
      "SUB_ARRAY_POINTING_000/BEAM_000\n",
      "SUB_ARRAY_POINTING_000/BEAM_000/PROCESS_HISTORY\n",
      "SUB_ARRAY_POINTING_000/BEAM_000/COORDINATES\n",
      "SUB_ARRAY_POINTING_000/BEAM_000/COORDINATES/COORDINATE_0\n",
      "SUB_ARRAY_POINTING_000/BEAM_000/COORDINATES/COORDINATE_1\n",
      "SUB_ARRAY_POINTING_000/BEAM_000/STOKES_0\n"
     ]
    }
   ],
   "source": [
    "h5.visit(print_name)"
   ]
  },
  {
   "cell_type": "markdown",
   "metadata": {},
   "source": [
    "You will recognize the `SUB_ARRAY_POINTING_000/BEAM_000/STOKES_0` grouping. Each of these groups and subgroups has a list of *attributes*, which hold metadata. The following command shows the attributes of the `root` (\"/\") group."
   ]
  },
  {
   "cell_type": "code",
   "execution_count": 5,
   "metadata": {},
   "outputs": [
    {
     "name": "stdout",
     "output_type": "stream",
     "text": [
      "ANTENNA_SET = b'HBA_DUAL'\n",
      "BANDWIDTH = 75.0\n",
      "BANDWIDTH_UNIT = b'MHz'\n",
      "BF_FORMAT = b'TAB'\n",
      "BF_VERSION = b'Cobalt/OutputProc 3.0_0 r38668 using DAL 2.5.0 and HDF5 1.8.12'\n",
      "CLOCK_FREQUENCY = 200.0\n",
      "CLOCK_FREQUENCY_UNIT = b'MHz'\n",
      "CREATE_OFFLINE_ONLINE = b'Online'\n",
      "DOC_NAME = b'ICD 3: Beam-Formed Data'\n",
      "DOC_VERSION = b'2.5.0'\n",
      "FILEDATE = b'2017-12-03T15:00:53.0'\n",
      "FILENAME = b'L631533_SAP000_B000_S0_P000_bf.h5'\n",
      "FILETYPE = b'bf'\n",
      "FILTER_SELECTION = b'HBA_110_190'\n",
      "GROUPTYPE = b'Root'\n",
      "NOF_SUB_ARRAY_POINTINGS = 1\n",
      "NOTES = b''\n",
      "OBSERVATION_END_MJD = 58090.629860840534\n",
      "OBSERVATION_END_UTC = b'2017-12-03T15:06:59.976622105Z'\n",
      "OBSERVATION_FREQUENCY_CENTER = 131.9305419921875\n",
      "OBSERVATION_FREQUENCY_MAX = 144.43359375\n",
      "OBSERVATION_FREQUENCY_MIN = 119.427490234375\n",
      "OBSERVATION_FREQUENCY_UNIT = b'MHz'\n",
      "OBSERVATION_ID = b'631533'\n",
      "OBSERVATION_NOF_BITS_PER_SAMPLE = 8\n",
      "OBSERVATION_NOF_STATIONS = 44\n",
      "OBSERVATION_NOF_SUB_ARRAY_POINTINGS = 3\n",
      "OBSERVATION_START_MJD = 58090.62638888889\n",
      "OBSERVATION_START_UTC = b'2017-12-03T15:02:00.000000000Z'\n",
      "OBSERVATION_STATIONS_LIST = [b'CS001HBA0' b'CS001HBA1' b'CS002HBA0' b'CS002HBA1' b'CS003HBA0'\n",
      " b'CS003HBA1' b'CS004HBA0' b'CS004HBA1' b'CS005HBA0' b'CS005HBA1'\n",
      " b'CS006HBA0' b'CS006HBA1' b'CS007HBA0' b'CS007HBA1' b'CS011HBA0'\n",
      " b'CS011HBA1' b'CS013HBA0' b'CS013HBA1' b'CS017HBA0' b'CS017HBA1'\n",
      " b'CS021HBA0' b'CS021HBA1' b'CS024HBA0' b'CS024HBA1' b'CS026HBA0'\n",
      " b'CS026HBA1' b'CS028HBA0' b'CS028HBA1' b'CS030HBA0' b'CS030HBA1'\n",
      " b'CS031HBA0' b'CS031HBA1' b'CS032HBA0' b'CS032HBA1' b'CS101HBA0'\n",
      " b'CS101HBA1' b'CS201HBA0' b'CS201HBA1' b'CS301HBA0' b'CS301HBA1'\n",
      " b'CS401HBA0' b'CS401HBA1' b'CS501HBA0' b'CS501HBA1']\n",
      "PROJECT_CONTACT = b'Pizzo, Dr. Roberto Francesco'\n",
      "PROJECT_CO_I = b'De Gasperin, Dr. Francesco'\n",
      "PROJECT_ID = b'2017LOFAROBS'\n",
      "PROJECT_PI = b'Pizzo, Dr. Roberto Francesco'\n",
      "PROJECT_TITLE = b'2017LOFAROBS'\n",
      "SYSTEM_VERSION = b'3.0_0'\n",
      "TARGETS = [b'LOTAAS-P1589C-SAP0' b'LOTAAS-P1589C-SAP1' b'LOTAAS-P1589C-SAP2']\n",
      "TELESCOPE = b'LOFAR'\n",
      "TOTAL_INTEGRATION_TIME = 299.97662208\n",
      "TOTAL_INTEGRATION_TIME_UNIT = b's'\n"
     ]
    }
   ],
   "source": [
    "group = h5[\"/\"]\n",
    "keys = sorted([\"%s\"%item for item in sorted(list(group.attrs))])\n",
    "for key in keys:\n",
    "    print(key + \" = \" + str(group.attrs[key]))"
   ]
  },
  {
   "cell_type": "markdown",
   "metadata": {},
   "source": [
    "## Exercise 1\n",
    "Have a look at the attributes of the other subgroups in the file. In particular try to find the attributes which describe;\n",
    "1. The number of sub-array pointings in this observation,\n",
    "2. The number of tied-array beams within a sub-array,\n",
    "3. The total bandwidth,\n",
    "4. The integration time,\n",
    "5. Which Stokes parameter is contained in this file.\n",
    "\n",
    "Use the `.attrs[\"<keyword>\"]` function to obtain the values of these parameters."
   ]
  },
  {
   "cell_type": "code",
   "execution_count": 15,
   "metadata": {},
   "outputs": [
    {
     "name": "stdout",
     "output_type": "stream",
     "text": [
      "3 91 75.0 299.97662208 b'I'\n"
     ]
    }
   ],
   "source": [
    "nsap = h5[\"/\"].attrs[\"OBSERVATION_NOF_SUB_ARRAY_POINTINGS\"]\n",
    "nbeam = h5[\"/SUB_ARRAY_POINTING_000\"].attrs[\"OBSERVATION_NOF_BEAMS\"]\n",
    "tint = h5[\"/\"].attrs[\"TOTAL_INTEGRATION_TIME\"]\n",
    "stokes = h5[\"/SUB_ARRAY_POINTING_000/BEAM_000/STOKES_0\"].attrs[\"STOKES_COMPONENT\"]\n",
    "tsamp = h5[\"/SUB_ARRAY_POINTING_000/BEAM_000\"].attrs[\"SAMPLING_TIME\"]\n",
    "print(nsap, nbeam, bandwidth, tint, stokes)"
   ]
  },
  {
   "cell_type": "markdown",
   "metadata": {},
   "source": [
    "The sub-array pointing group provides the pointing right ascension and declination as `POINT_RA` and `POINT_DEC`, as well as keywords describing their units. Let's first the pointing right ascension and declination of all the sub-array pointings in this observation.\n",
    "\n",
    "We can use `glob` to create a list with HDF5 headers of the first beam (`B000`) of each sub-array pointing."
   ]
  },
  {
   "cell_type": "code",
   "execution_count": 28,
   "metadata": {},
   "outputs": [],
   "source": [
    "sapfnames = sorted(glob.glob(\"data/L??????_SAP???_B000_S0_P000_bf.h5\"))"
   ]
  },
  {
   "cell_type": "markdown",
   "metadata": {},
   "source": [
    "The following piece of code loops over these files to obtain the sub-array pointing identifiers, and then obtains the pointing right ascension and declination of each."
   ]
  },
  {
   "cell_type": "code",
   "execution_count": 29,
   "metadata": {},
   "outputs": [],
   "source": [
    "sap_ra = []\n",
    "sap_dec = []\n",
    "for sapfname in sapfnames:\n",
    "    h5 = h5py.File(sapfname, \"r\")\n",
    "    sap_ids = [key for key in h5.keys() if \"SUB_ARRAY_POINTING\" in key]\n",
    "    for sap_id in sap_ids:\n",
    "        sap_ra.append(h5[sap_id].attrs['POINT_RA'])\n",
    "        sap_dec.append(h5[sap_id].attrs['POINT_DEC'])"
   ]
  },
  {
   "cell_type": "markdown",
   "metadata": {},
   "source": [
    "We can now plot these pointings."
   ]
  },
  {
   "cell_type": "code",
   "execution_count": 31,
   "metadata": {},
   "outputs": [
    {
     "data": {
      "text/plain": [
       "Text(0.5,1,'L631533 sub-array pointings')"
      ]
     },
     "execution_count": 31,
     "metadata": {},
     "output_type": "execute_result"
    },
    {
     "data": {
      "image/png": "[encoded data removed]",
      "text/plain": [
       "<Figure size 720x504 with 1 Axes>"
      ]
     },
     "metadata": {},
     "output_type": "display_data"
    }
   ],
   "source": [
    "plt.figure(figsize=(10,7))\n",
    "plt.plot(sap_ra, sap_dec, 'o')\n",
    "plt.xlabel(\"Right ascension (deg)\")\n",
    "plt.ylabel(\"Declination (deg)\")\n",
    "plt.title(\"L631533 sub-array pointings\")"
   ]
  },
  {
   "cell_type": "markdown",
   "metadata": {},
   "source": [
    "## Exercise 2\n",
    "Use the code from the previous cells as an example to obtain the pointing right ascension and declination of each beam in each of the three sub-array pointings. Make a plot of all the beam pointings and sub-array pointings."
   ]
  },
  {
   "cell_type": "code",
   "execution_count": 34,
   "metadata": {},
   "outputs": [
    {
     "name": "stdout",
     "output_type": "stream",
     "text": [
      "273\n"
     ]
    }
   ],
   "source": [
    "beamfnames = sorted(glob.glob(\"data/L??????_SAP???_B???_S0_P000_bf.h5\"))"
   ]
  },
  {
   "cell_type": "code",
   "execution_count": 38,
   "metadata": {},
   "outputs": [],
   "source": [
    "beam_ra = []\n",
    "beam_dec = []\n",
    "sap_no = []\n",
    "for beamfname in beamfnames:\n",
    "    h5 = h5py.File(beamfname, \"r\")\n",
    "    sap_ids = [key for key in h5.keys() if \"SUB_ARRAY_POINTING\" in key]\n",
    "    for sap_id in sap_ids:\n",
    "        beam_ids = [key for key in h5[sap_id].keys() if \"BEAM\" in key]\n",
    "        for beam_id in beam_ids:\n",
    "            group_name = sap_id + \"/\" + beam_id\n",
    "            beam_ra.append(h5[group_name].attrs['POINT_RA'])\n",
    "            beam_dec.append(h5[group_name].attrs['POINT_DEC'])"
   ]
  },
  {
   "cell_type": "code",
   "execution_count": 39,
   "metadata": {},
   "outputs": [
    {
     "data": {
      "text/plain": [
       "[<matplotlib.lines.Line2D at 0x7f9ed6084dd8>]"
      ]
     },
     "execution_count": 39,
     "metadata": {},
     "output_type": "execute_result"
    },
    {
     "data": {
      "image/png": "[encoded data removed]",
      "text/plain": [
       "<Figure size 432x288 with 1 Axes>"
      ]
     },
     "metadata": {},
     "output_type": "display_data"
    }
   ],
   "source": [
    "plt.plot(beam_ra, beam_dec, '.')"
   ]
  },
  {
   "cell_type": "code",
   "execution_count": 14,
   "metadata": {},
   "outputs": [
    {
     "name": "stdout",
     "output_type": "stream",
     "text": [
      "EXPTIME_END_MJD = 58090.629860840534\n",
      "EXPTIME_END_UTC = b'2017-12-03T15:06:59.976622105Z'\n",
      "EXPTIME_START_MJD = 58090.62638888889\n",
      "EXPTIME_START_UTC = b'2017-12-03T15:02:00.000000000Z'\n",
      "GROUPTYPE = b'SubArrayPointing'\n",
      "NOF_BEAMS = 1\n",
      "OBSERVATION_NOF_BEAMS = 91\n",
      "POINT_DEC = 22.92807\n",
      "POINT_DEC_UNIT = b'deg'\n",
      "POINT_RA = 289.839232\n",
      "POINT_RA_UNIT = b'deg'\n",
      "TOTAL_INTEGRATION_TIME = 299.97662208\n",
      "TOTAL_INTEGRATION_TIME_UNIT = b's'\n"
     ]
    }
   ],
   "source": [
    "group = h5[\"/SUB_ARRAY_POINTING_000\"]\n",
    "keys = sorted([\"%s\"%item for item in sorted(list(group.attrs))])\n",
    "for key in keys:\n",
    "    print(key + \" = \" + str(group.attrs[key]))"
   ]
  },
  {
   "cell_type": "code",
   "execution_count": null,
   "metadata": {},
   "outputs": [],
   "source": []
  }
 ],
 "metadata": {
  "kernelspec": {
   "display_name": "Python 3",
   "language": "python",
   "name": "python3"
  },
  "language_info": {
   "codemirror_mode": {
    "name": "ipython",
    "version": 3
   },
   "file_extension": ".py",
   "mimetype": "text/x-python",
   "name": "python",
   "nbconvert_exporter": "python",
   "pygments_lexer": "ipython3",
   "version": "3.6.5"
  }
 },
 "nbformat": 4,
 "nbformat_minor": 2
}
