{
 "cells": [
  {
   "cell_type": "markdown",
   "metadata": {},
   "source": [
    "# Tutorial: HDF5 headers\n",
    "This tutorial will show you how to estimate the shape and sizes of beams from the LOFAR telescope.\n",
    "\n",
    "First, let's load the python libraries that we will use."
   ]
  },
  {
   "cell_type": "code",
   "execution_count": 16,
   "metadata": {},
   "outputs": [
    {
     "name": "stdout",
     "output_type": "stream",
     "text": [
      "Populating the interactive namespace from numpy and matplotlib\n"
     ]
    }
   ],
   "source": [
    "import numpy as np\n",
    "import scipy\n",
    "import matplotlib.pyplot as plt\n",
    "import h5py\n",
    "import glob\n",
    "import os\n",
    "%pylab inline"
   ]
  },
  {
   "cell_type": "markdown",
   "metadata": {},
   "source": [
    "HDF5 files store both data as well as the associated metadata in groups. The image below gives a overview of the HDF5 file structure.\n",
    "![title](img/hdf5_structure4.jpg)\n",
    "\n",
    "Beamformed LOFAR data uses this structure, where the formatting of the HDF5 file name in sub-array pointing, beam, and Stokes parameter, is represented in the file."
   ]
  },
  {
   "cell_type": "markdown",
   "metadata": {},
   "source": [
    "The following commands show the group structure of a LOFAR HDF5 file."
   ]
  },
  {
   "cell_type": "code",
   "execution_count": 19,
   "metadata": {},
   "outputs": [],
   "source": [
    "os.chdir(\"../../data/L629252\")\n",
    "h5 = h5py.File(\"L629252_SAP000_B000_S0_P000_bf.h5\", \"r\")"
   ]
  },
  {
   "cell_type": "code",
   "execution_count": 20,
   "metadata": {},
   "outputs": [],
   "source": [
    "def print_name(name):\n",
    "    print(name)"
   ]
  },
  {
   "cell_type": "code",
   "execution_count": 21,
   "metadata": {},
   "outputs": [
    {
     "name": "stdout",
     "output_type": "stream",
     "text": [
      "SUB_ARRAY_POINTING_000\n",
      "SUB_ARRAY_POINTING_000/BEAM_000\n",
      "SUB_ARRAY_POINTING_000/BEAM_000/COORDINATES\n",
      "SUB_ARRAY_POINTING_000/BEAM_000/COORDINATES/COORDINATE_0\n",
      "SUB_ARRAY_POINTING_000/BEAM_000/COORDINATES/COORDINATE_1\n",
      "SUB_ARRAY_POINTING_000/BEAM_000/PROCESS_HISTORY\n",
      "SUB_ARRAY_POINTING_000/BEAM_000/STOKES_0\n",
      "SUB_ARRAY_POINTING_000/PROCESS_HISTORY\n",
      "SYS_LOG\n"
     ]
    }
   ],
   "source": [
    "h5.visit(print_name)"
   ]
  },
  {
   "cell_type": "markdown",
   "metadata": {},
   "source": [
    "You will recognize the `SUB_ARRAY_POINTING_000/BEAM_000/STOKES_0` grouping. Each of these groups and subgroups has a list of *attributes*, which hold metadata. The following command shows the attributes of the `root` (\"/\") group."
   ]
  },
  {
   "cell_type": "code",
   "execution_count": 22,
   "metadata": {},
   "outputs": [
    {
     "name": "stdout",
     "output_type": "stream",
     "text": [
      "ANTENNA_SET = HBA_DUAL\n",
      "BANDWIDTH = 94.921875\n",
      "BANDWIDTH_UNIT = MHz\n",
      "BF_FORMAT = TAB\n",
      "BF_VERSION = Cobalt/OutputProc 3.0_0 r38668 using DAL 2.5.0 and HDF5 1.8.12\n",
      "CLOCK_FREQUENCY = 200.0\n",
      "CLOCK_FREQUENCY_UNIT = MHz\n",
      "CREATE_OFFLINE_ONLINE = Online\n",
      "DOC_NAME = ICD 3: Beam-Formed Data\n",
      "DOC_VERSION = 2.5.0\n",
      "FILEDATE = 2017-11-22T14:57:57.0\n",
      "FILENAME = L629252_SAP000_B000_S0_P000_bf.h5\n",
      "FILETYPE = bf\n",
      "FILTER_SELECTION = HBA_110_190\n",
      "GROUPTYPE = Root\n",
      "NOF_SUB_ARRAY_POINTINGS = 1\n",
      "NOTES = \n",
      "OBSERVATION_END_MJD = 58079.665968975285\n",
      "OBSERVATION_END_UTC = 2017-11-22T15:58:59.719465017Z\n",
      "OBSERVATION_FREQUENCY_CENTER = 135.2508544921875\n",
      "OBSERVATION_FREQUENCY_MAX = 151.07421875\n",
      "OBSERVATION_FREQUENCY_MIN = 119.427490234375\n",
      "OBSERVATION_FREQUENCY_UNIT = MHz\n",
      "OBSERVATION_ID = 629252\n",
      "OBSERVATION_NOF_BITS_PER_SAMPLE = 8\n",
      "OBSERVATION_NOF_STATIONS = 12\n",
      "OBSERVATION_NOF_SUB_ARRAY_POINTINGS = 3\n",
      "OBSERVATION_START_MJD = 58079.62430555555\n",
      "OBSERVATION_START_UTC = 2017-11-22T14:59:00.000000000Z\n",
      "OBSERVATION_STATIONS_LIST = ['CS002HBA0' 'CS002HBA1' 'CS003HBA0' 'CS003HBA1' 'CS004HBA0' 'CS004HBA1'\n",
      " 'CS005HBA0' 'CS005HBA1' 'CS006HBA0' 'CS006HBA1' 'CS007HBA0' 'CS007HBA1']\n",
      "PROJECT_CONTACT = Hessels, Dr. Jason\n",
      "PROJECT_CO_I = Vincent Morello\n",
      "PROJECT_ID = LC9_023\n",
      "PROJECT_PI = Hessels, Dr. Jason\n",
      "PROJECT_TITLE = Continuing the LOFAR Tied-Array All-Sky Survey\n",
      "SYSTEM_VERSION = 3.0_0\n",
      "TARGETS = ['LOTAAS-P1645C-SAP0' 'LOTAAS-P1645C-SAP1' 'LOTAAS-P1645C-SAP2']\n",
      "TELESCOPE = LOFAR\n",
      "TOTAL_INTEGRATION_TIME = 3599.7194649600006\n",
      "TOTAL_INTEGRATION_TIME_UNIT = s\n"
     ]
    }
   ],
   "source": [
    "group = h5[\"/\"]\n",
    "keys = sorted([\"%s\"%item for item in sorted(list(group.attrs))])\n",
    "for key in keys:\n",
    "    print(key + \" = \" + str(group.attrs[key]))"
   ]
  },
  {
   "cell_type": "markdown",
   "metadata": {},
   "source": [
    "## Exercise 1\n",
    "Have a look at the attributes of the other subgroups in the file. In particular try to find the attributes which describe;\n",
    "1. The number of sub-array pointings in this observation,\n",
    "2. The number of tied-array beams within a sub-array,\n",
    "3. The total bandwidth,\n",
    "4. The integration time,\n",
    "5. Which Stokes parameter is contained in this file.\n",
    "\n",
    "Use the `.attrs[\"<keyword>\"]` function to obtain the values of these parameters."
   ]
  },
  {
   "cell_type": "code",
   "execution_count": 23,
   "metadata": {},
   "outputs": [
    {
     "name": "stdout",
     "output_type": "stream",
     "text": [
      "3 74 0.0004915200000000001 3599.7194649600006 I\n"
     ]
    }
   ],
   "source": [
    "nsap = h5[\"/\"].attrs[\"OBSERVATION_NOF_SUB_ARRAY_POINTINGS\"]\n",
    "nbeam = h5[\"/SUB_ARRAY_POINTING_000\"].attrs[\"OBSERVATION_NOF_BEAMS\"]\n",
    "tint = h5[\"/\"].attrs[\"TOTAL_INTEGRATION_TIME\"]\n",
    "stokes = h5[\"/SUB_ARRAY_POINTING_000/BEAM_000/STOKES_0\"].attrs[\"STOKES_COMPONENT\"]\n",
    "tsamp = h5[\"/SUB_ARRAY_POINTING_000/BEAM_000\"].attrs[\"SAMPLING_TIME\"]\n",
    "print(nsap, nbeam, tsamp, tint, stokes)"
   ]
  },
  {
   "cell_type": "markdown",
   "metadata": {},
   "source": [
    "The sub-array pointing group provides the pointing right ascension and declination as `POINT_RA` and `POINT_DEC`, as well as keywords describing their units. Let's first the pointing right ascension and declination of all the sub-array pointings in this observation.\n",
    "\n",
    "We can use `glob` to create a list with HDF5 headers of the first beam (`B000`) of each sub-array pointing."
   ]
  },
  {
   "cell_type": "code",
   "execution_count": 25,
   "metadata": {},
   "outputs": [],
   "source": [
    "sapfnames = sorted(glob.glob(\"L629252_SAP???_B000_S0_P000_bf.h5\"))"
   ]
  },
  {
   "cell_type": "markdown",
   "metadata": {},
   "source": [
    "The following piece of code loops over these files to obtain the sub-array pointing identifiers, and then obtains the pointing right ascension and declination of each."
   ]
  },
  {
   "cell_type": "code",
   "execution_count": 26,
   "metadata": {},
   "outputs": [],
   "source": [
    "sap_ra = []\n",
    "sap_dec = []\n",
    "for sapfname in sapfnames:\n",
    "    h5 = h5py.File(sapfname, \"r\")\n",
    "    sap_ids = [key for key in h5.keys() if \"SUB_ARRAY_POINTING\" in key]\n",
    "    for sap_id in sap_ids:\n",
    "        sap_ra.append(h5[sap_id].attrs['POINT_RA'])\n",
    "        sap_dec.append(h5[sap_id].attrs['POINT_DEC'])"
   ]
  },
  {
   "cell_type": "markdown",
   "metadata": {},
   "source": [
    "We can now plot these pointings."
   ]
  },
  {
   "cell_type": "code",
   "execution_count": 29,
   "metadata": {},
   "outputs": [
    {
     "data": {
      "text/plain": [
       "Text(0.5, 1.0, 'L629252 sub-array pointings')"
      ]
     },
     "execution_count": 29,
     "metadata": {},
     "output_type": "execute_result"
    },
    {
     "data": {
      "image/png": "[encoded data removed]",
      "text/plain": [
       "<Figure size 720x504 with 1 Axes>"
      ]
     },
     "metadata": {
      "needs_background": "light"
     },
     "output_type": "display_data"
    }
   ],
   "source": [
    "fig, ax = plt.subplots(figsize=(10,7))\n",
    "ax.plot(sap_ra, sap_dec, 'o')\n",
    "ax.set_xlabel(\"Right ascension (deg)\")\n",
    "ax.set_ylabel(\"Declination (deg)\")\n",
    "ax.set_title(\"L629252 sub-array pointings\")"
   ]
  },
  {
   "cell_type": "markdown",
   "metadata": {},
   "source": [
    "## Exercise 2\n",
    "Use the code from the previous cells as an example to obtain the pointing right ascension and declination of each beam in each of the three sub-array pointings. Make a plot of all the beam pointings and sub-array pointings."
   ]
  },
  {
   "cell_type": "code",
   "execution_count": 31,
   "metadata": {},
   "outputs": [],
   "source": [
    "beamfnames = sorted(glob.glob(\"L629252_SAP???_B???_S0_P000_bf.h5\"))"
   ]
  },
  {
   "cell_type": "code",
   "execution_count": 32,
   "metadata": {},
   "outputs": [],
   "source": [
    "beam_ra = []\n",
    "beam_dec = []\n",
    "sap_no = []\n",
    "for beamfname in beamfnames:\n",
    "    h5 = h5py.File(beamfname, \"r\")\n",
    "    sap_ids = [key for key in h5.keys() if \"SUB_ARRAY_POINTING\" in key]\n",
    "    for sap_id in sap_ids:\n",
    "        beam_ids = [key for key in h5[sap_id].keys() if \"BEAM\" in key]\n",
    "        for beam_id in beam_ids:\n",
    "            group_name = sap_id + \"/\" + beam_id\n",
    "            beam_ra.append(h5[group_name].attrs['POINT_RA'])\n",
    "            beam_dec.append(h5[group_name].attrs['POINT_DEC'])"
   ]
  },
  {
   "cell_type": "code",
   "execution_count": 33,
   "metadata": {},
   "outputs": [
    {
     "data": {
      "text/plain": [
       "Text(0.5, 1.0, 'L629252 Tied-array pointings')"
      ]
     },
     "execution_count": 33,
     "metadata": {},
     "output_type": "execute_result"
    },
    {
     "data": {
      "image/png": "[encoded data removed]",
      "text/plain": [
       "<Figure size 720x504 with 1 Axes>"
      ]
     },
     "metadata": {
      "needs_background": "light"
     },
     "output_type": "display_data"
    }
   ],
   "source": [
    "fig, ax = plt.subplots(figsize=(10,7))\n",
    "ax.plot(beam_ra, beam_dec, '.')\n",
    "ax.plot(sap_ra, sap_dec, 'o')\n",
    "ax.set_xlabel(\"Right ascension (deg)\")\n",
    "ax.set_ylabel(\"Declination (deg)\")\n",
    "ax.set_title(\"L629252 Tied-array pointings\")"
   ]
  },
  {
   "cell_type": "markdown",
   "metadata": {},
   "source": [
    "## Exercise 3\n",
    "You will have noticed the `COORDINATES` sub-group of the beam group. Investigate this group and the groups contained within them.\n",
    "1. What are the dimensions and units of the two coordinate axes?\n",
    "2. Compare the setup of the two coordinate axis. How does their setup differ?\n",
    "3. Extract the frequencies of the channels and show that these match the channel width defined in the beam sub-group."
   ]
  },
  {
   "cell_type": "code",
   "execution_count": 34,
   "metadata": {},
   "outputs": [
    {
     "name": "stdout",
     "output_type": "stream",
     "text": [
      "Coordinate 0: Time us\n",
      "Coordinate 1: Frequency Hz\n"
     ]
    }
   ],
   "source": [
    "h5 = h5py.File(\"L629252_SAP000_B000_S0_P000_bf.h5\", \"r\")\n",
    "group = h5[\"/SUB_ARRAY_POINTING_000/BEAM_000/COORDINATES\"]\n",
    "coord = h5[\"/SUB_ARRAY_POINTING_000/BEAM_000/COORDINATES/COORDINATE_0\"]\n",
    "print(\"Coordinate 0:\", coord.attrs[\"AXIS_NAMES\"][0], coord.attrs[\"AXIS_UNITS\"][0])\n",
    "coord = h5[\"/SUB_ARRAY_POINTING_000/BEAM_000/COORDINATES/COORDINATE_1\"]\n",
    "print(\"Coordinate 1:\", coord.attrs[\"AXIS_NAMES\"][0], coord.attrs[\"AXIS_UNITS\"][0])"
   ]
  },
  {
   "cell_type": "markdown",
   "metadata": {},
   "source": [
    "The time index uses an increment per pixel, while the frequency index provides an array of values."
   ]
  },
  {
   "cell_type": "code",
   "execution_count": 35,
   "metadata": {},
   "outputs": [],
   "source": [
    "freqs = h5[\"/SUB_ARRAY_POINTING_000/BEAM_000/COORDINATES/COORDINATE_1\"].attrs[\"AXIS_VALUES_WORLD\"]"
   ]
  },
  {
   "cell_type": "code",
   "execution_count": 36,
   "metadata": {},
   "outputs": [
    {
     "name": "stdout",
     "output_type": "stream",
     "text": [
      "[12207.03125 12207.03125 12207.03125 ... 12207.03125 12207.03125\n",
      " 12207.03125]\n"
     ]
    }
   ],
   "source": [
    "dfreq = freqs[1:]-freqs[:-1]\n",
    "print(dfreq)"
   ]
  },
  {
   "cell_type": "code",
   "execution_count": null,
   "metadata": {},
   "outputs": [],
   "source": []
  },
  {
   "cell_type": "code",
   "execution_count": null,
   "metadata": {},
   "outputs": [],
   "source": []
  }
 ],
 "metadata": {
  "kernelspec": {
   "display_name": "Python 3",
   "language": "python",
   "name": "python3"
  },
  "language_info": {
   "codemirror_mode": {
    "name": "ipython",
    "version": 3
   },
   "file_extension": ".py",
   "mimetype": "text/x-python",
   "name": "python",
   "nbconvert_exporter": "python",
   "pygments_lexer": "ipython3",
   "version": "3.9.2"
  }
 },
 "nbformat": 4,
 "nbformat_minor": 2
}
